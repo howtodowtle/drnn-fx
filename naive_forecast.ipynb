{
 "cells": [
  {
   "cell_type": "markdown",
   "metadata": {
    "colab_type": "text",
    "id": "hwzUNl7RrjHf"
   },
   "source": [
    "# Naïve Benchmark"
   ]
  },
  {
   "cell_type": "markdown",
   "metadata": {
    "_uuid": "99e5994552978071463d487aad685a1195778804",
    "colab_type": "text",
    "id": "okTqNAzZrjHg"
   },
   "source": [
    "### Imports"
   ]
  },
  {
   "cell_type": "code",
   "execution_count": 1,
   "metadata": {
    "_cell_guid": "b1076dfc-b9ad-4769-8c92-a6c4dae69d19",
    "_uuid": "8f2839f25d086af736a60e9eeb907d3b93b6e0e5",
    "colab": {},
    "colab_type": "code",
    "id": "77Z6HnU1rjHh"
   },
   "outputs": [],
   "source": [
    "import os\n",
    "import time\n",
    "import warnings\n",
    "import math\n",
    "\n",
    "import numpy as np\n",
    "import pandas as pd\n",
    "\n",
    "from sklearn.metrics import accuracy_score, roc_auc_score"
   ]
  },
  {
   "cell_type": "markdown",
   "metadata": {
    "_uuid": "2bedcf4277e569066f92fc4fdf077b3709f50aca",
    "colab_type": "text",
    "id": "e7t4ByttrjHr"
   },
   "source": [
    "## Function defintions"
   ]
  },
  {
   "cell_type": "markdown",
   "metadata": {
    "_uuid": "64d8d5e56cc3f083a22d32183054716ee6aeeb53",
    "colab_type": "text",
    "id": "bPPTrHigrjIM"
   },
   "source": [
    "### Evaluation\n",
    "#### Economic evaluation"
   ]
  },
  {
   "cell_type": "code",
   "execution_count": 5,
   "metadata": {
    "_uuid": "011fed6be34ec44272f65b470a84d4f69f3d04d2",
    "colab": {},
    "colab_type": "code",
    "id": "3yQnbXPhrjIN"
   },
   "outputs": [],
   "source": [
    "def trading_strategy(y_true_returns, y_pred, midpoint=0.5, threshold=0):\n",
    "    \"\"\"\n",
    "    Calculates cumulative absolute profits (i.e. p.a. profits for 250 days \n",
    "    of trading) from a simple trading strategy of going long when predicted \n",
    "    returns are on or above a midpoint + threshold (Default: 0.5 + 0) and \n",
    "    short when below midpoint - threshold.    \n",
    "    threshold = 0 (Default) means trading every prediction.\n",
    "    \"\"\"\n",
    "    \n",
    "    returns = []\n",
    "    \n",
    "    for i in range(len(y_pred)):\n",
    "        \n",
    "        # if model predicts positive return,  go long\n",
    "        if y_pred[i] >= midpoint + threshold:\n",
    "            returns.append(y_true_returns[i])\n",
    "            \n",
    "        # else, go short\n",
    "        elif y_pred[i] < midpoint - threshold:\n",
    "            returns.append(0 - y_true_returns[i])\n",
    "    \n",
    "    profits = listproduct([(1 + r) for r in returns]) - 1\n",
    "    stdev = np.std(returns)\n",
    "    sharpe_ratio = np.mean(returns) / stdev\n",
    "    \n",
    "    return profits, stdev, sharpe_ratio"
   ]
  },
  {
   "cell_type": "markdown",
   "metadata": {
    "colab_type": "text",
    "id": "0JJzmR1yrjIY"
   },
   "source": [
    "### Helper functions\n",
    "#### Listproduct"
   ]
  },
  {
   "cell_type": "code",
   "execution_count": 24,
   "metadata": {
    "colab": {},
    "colab_type": "code",
    "id": "VivFhEo7rjIa"
   },
   "outputs": [],
   "source": [
    "def listproduct(lst):\n",
    "    \"\"\"\n",
    "    Takes a list argument and returns the \n",
    "    product of all its elements.\n",
    "    \"\"\"\n",
    "    product = 1\n",
    "    for number in lst:\n",
    "        product *= number\n",
    "    return product"
   ]
  },
  {
   "cell_type": "markdown",
   "metadata": {
    "colab_type": "text",
    "id": "5_d0uV4jrjIe"
   },
   "source": [
    "#### Multi-index dataframe for results"
   ]
  },
  {
   "cell_type": "code",
   "execution_count": 25,
   "metadata": {
    "colab": {},
    "colab_type": "code",
    "id": "UL94HdfrrjIg"
   },
   "outputs": [],
   "source": [
    "def create_results_df(study_periods, metrics, models=['FNN', 'SRNN', 'LSTM', 'GRU']):\n",
    "    \"\"\"\n",
    "    Returns a multi-index pd.DataFrame filled with '_' in each cell.\n",
    "    Columns: evaluation metrics\n",
    "    Row levels: models (level 0), study periods (level 1)\n",
    "    \"\"\"\n",
    "    \n",
    "    # multi-index\n",
    "    idx = pd.MultiIndex.from_product([models,  # for each model type\n",
    "                                     list(range(1, study_periods + 1))],  # one row per study period\n",
    "                                     names=['Model', 'Study period'])\n",
    "\n",
    "    # empty results dataframe \n",
    "    return pd.DataFrame('-', idx, metrics)"
   ]
  },
  {
   "cell_type": "markdown",
   "metadata": {
    "_uuid": "99e5994552978071463d487aad685a1195778804",
    "colab_type": "text",
    "id": "QdHg5FIMrjIm"
   },
   "source": [
    "## Data"
   ]
  },
  {
   "cell_type": "code",
   "execution_count": 26,
   "metadata": {
    "_uuid": "9c3278d331233899e0f1f399abed7b28ef243c54",
    "colab": {},
    "colab_type": "code",
    "id": "edUNpXEsrjIn"
   },
   "outputs": [],
   "source": [
    "dataset_raw = pd.read_csv('data/exchange_rates_FED.csv', header=3, index_col=0).iloc[2:,:]\n",
    "dataset_raw = dataset_raw.add_prefix('USD/')\n",
    "dataset_raw = dataset_raw.rename(index=str, columns={\"USD/USD\":\"EUR/USD\", \"USD/USD.1\":\"GBP/USD\", \"USD/USD.2\":\"AUD/USD\", \"USD/USD.3\":\"NZD/USD\",\n",
    "                                            \"USD/Unnamed: 19\":\"NBDI\", \"USD/Unnamed: 20\":\"NMCDI\", \"USD/Unnamed: 21\":\"NOITPI\"})\n",
    "\n",
    "dates = dataset_raw.index  # save index"
   ]
  },
  {
   "cell_type": "code",
   "execution_count": 27,
   "metadata": {
    "colab": {},
    "colab_type": "code",
    "id": "MdRpjQWKrjIr"
   },
   "outputs": [],
   "source": [
    "# to numeric\n",
    "prices = pd.DataFrame(columns=dataset_raw.columns)\n",
    "for col in prices.columns:\n",
    "    prices[col] = pd.to_numeric(dataset_raw[col].astype(str), errors=\"coerce\")"
   ]
  },
  {
   "cell_type": "markdown",
   "metadata": {
    "_uuid": "e81bc97c90ddb92025b5aefd4f7ba3cf419bfe2a",
    "colab_type": "text",
    "id": "HSQyNTwZrjIw"
   },
   "source": [
    "### Dataset overview\n",
    "- 12170 rows (days)\n",
    "    - start date: January 4, 1971\n",
    "    - end date: August 25, 2017\n",
    "- 26 columns (23 currencies vs. USD, plus 3 indices*)\n",
    "    - series of different length, rest NaN\n",
    "    - e.g. EUR/USD starts in 1999\n",
    "    - most other main currency pairs in 1971\n",
    "\n",
    "    *(Nominal Broad Dollar Index, Nominal Major Currencies Dollar Index, Nominal Other Important Trading Partners Dollar Index)"
   ]
  },
  {
   "cell_type": "markdown",
   "metadata": {
    "colab_type": "text",
    "id": "OimUoi4orjIx"
   },
   "source": [
    "#### Create one-day returns\n",
    "\n",
    "- create a separate dataframe for daily returns\n",
    "- skip `NaN`s instead of padding them with zeroes - that would mislead the models with artificial data"
   ]
  },
  {
   "cell_type": "code",
   "execution_count": 28,
   "metadata": {
    "colab": {},
    "colab_type": "code",
    "id": "1l5hSTMMrjIy"
   },
   "outputs": [],
   "source": [
    "returns = pd.DataFrame(index=prices.index, columns=prices.columns)\n",
    "\n",
    "for col in returns.columns:\n",
    "    returns[col] = prices[col][prices[col].notnull()].pct_change()"
   ]
  },
  {
   "cell_type": "markdown",
   "metadata": {
    "colab_type": "text",
    "id": "_IZqdhlyrjJA"
   },
   "source": [
    "## Benchmark: Naive Forecast"
   ]
  },
  {
   "cell_type": "code",
   "execution_count": 29,
   "metadata": {},
   "outputs": [],
   "source": [
    "currencies = [\"EUR/USD\", \"GBP/USD\", \"USD/JPY\", \"USD/CHF\"]"
   ]
  },
  {
   "cell_type": "code",
   "execution_count": 30,
   "metadata": {},
   "outputs": [],
   "source": [
    "# parameters for data preprocessing\n",
    "train_len = 750\n",
    "trade_len = 250\n",
    "sequence_len = 240\n",
    "\n",
    "# metrics to be evaluated\n",
    "metrics = ['Accuracy', 'AUC', 'Returns', 'Standard deviation', 'Sharpe ratio']\n",
    "\n",
    "# empty dictionary for results\n",
    "results_dict = {}"
   ]
  },
  {
   "cell_type": "code",
   "execution_count": 57,
   "metadata": {},
   "outputs": [
    {
     "name": "stdout",
     "output_type": "stream",
     "text": [
      "Time: 3 seconds\n"
     ]
    }
   ],
   "source": [
    "# timing\n",
    "start_all = time.time()\n",
    "\n",
    "# loop through selected currency pairs\n",
    "for curr in currencies:\n",
    "    \n",
    "    # isolate currency pair\n",
    "    ts = returns[curr].dropna() \n",
    "    \n",
    "    # determine number of study periods\n",
    "    study_periods = int((len(ts) - train_len) / trade_len)\n",
    "    \n",
    "    # create a dataframe to store results\n",
    "    results_dict[curr] = create_results_df(study_periods, metrics)\n",
    "    \n",
    "    # loop through all study periods\n",
    "    for period_no in reversed(range(study_periods)):\n",
    "\n",
    "        # isolate study period\n",
    "        sp_stop = len(ts) - period_no * trade_len\n",
    "        sp_start = sp_stop - (train_len + trade_len)\n",
    "        time_series = ts[sp_start : sp_stop]\n",
    "\n",
    "        # define binary targets\n",
    "        targets = time_series[-251:] >= 0\n",
    "        \n",
    "        # compute naive predictions\n",
    "        naive_predictions = targets[:-1]\n",
    "        \n",
    "        # remove last observation from training set (-251)\n",
    "        targets = targets[1:]\n",
    "        \n",
    "        # match indices (required for auc computation)\n",
    "        naive_predictions.index = targets.index\n",
    "\n",
    "        # log loss cannot be computed for naive naive_predictionsictions including 0 (!log(0))\n",
    "        acc = sum(naive_predictions == targets)/len(naive_predictions)\n",
    "        auc = roc_auc_score(targets, naive_predictions)\n",
    "\n",
    "        # real returns\n",
    "        rr = time_series[-250:]\n",
    "\n",
    "        # profits: targets returns, naive_predictionsicted probabilities\n",
    "        profits, stdev, sharpe_ratio = trading_strategy(rr, naive_predictions)\n",
    "        \n",
    "        # get: accuracy, roc_auc, profits, stdev, sharpe ratio\n",
    "        results_this_model = acc, auc, profits, stdev, sharpe_ratio\n",
    "        \n",
    "        # write results into dataframe\n",
    "        for j in range(len(metrics)):\n",
    "                results_dict[curr].loc[('Naive FC', period_no + 1), metrics[j]] = results_this_model[j]\n",
    "\n",
    "\n",
    "# total training time over all currency pairs, all study periods, and all model architectures\n",
    "print(f'Time: {round((time.time() - start_all))} seconds')"
   ]
  },
  {
   "cell_type": "code",
   "execution_count": 58,
   "metadata": {},
   "outputs": [
    {
     "data": {
      "text/plain": [
       "Accuracy              0.474400\n",
       "AUC                   0.471813\n",
       "Returns              -0.020230\n",
       "Standard deviation    0.006000\n",
       "Sharpe ratio         -0.018790\n",
       "dtype: float64"
      ]
     },
     "execution_count": 58,
     "metadata": {},
     "output_type": "execute_result"
    }
   ],
   "source": [
    "results_dict['EUR/USD'].loc['Naive FC'].mean(axis=0)"
   ]
  },
  {
   "cell_type": "code",
   "execution_count": 59,
   "metadata": {
    "colab": {},
    "colab_type": "code",
    "id": "lneLoOTrrjJH"
   },
   "outputs": [],
   "source": [
    "results_naive = pd.DataFrame(columns = metrics)\n",
    "\n",
    "for curr in currencies:\n",
    "    results_naive.loc[curr] = results_dict[curr].loc['Naive FC'].mean(axis=0)"
   ]
  },
  {
   "cell_type": "code",
   "execution_count": 60,
   "metadata": {},
   "outputs": [
    {
     "data": {
      "text/html": [
       "<div>\n",
       "<style scoped>\n",
       "    .dataframe tbody tr th:only-of-type {\n",
       "        vertical-align: middle;\n",
       "    }\n",
       "\n",
       "    .dataframe tbody tr th {\n",
       "        vertical-align: top;\n",
       "    }\n",
       "\n",
       "    .dataframe thead th {\n",
       "        text-align: right;\n",
       "    }\n",
       "</style>\n",
       "<table border=\"1\" class=\"dataframe\">\n",
       "  <thead>\n",
       "    <tr style=\"text-align: right;\">\n",
       "      <th></th>\n",
       "      <th>Accuracy</th>\n",
       "      <th>AUC</th>\n",
       "      <th>Returns</th>\n",
       "      <th>Standard deviation</th>\n",
       "      <th>Sharpe ratio</th>\n",
       "    </tr>\n",
       "  </thead>\n",
       "  <tbody>\n",
       "    <tr>\n",
       "      <th>EUR/USD</th>\n",
       "      <td>0.474400</td>\n",
       "      <td>0.471813</td>\n",
       "      <td>-0.020230</td>\n",
       "      <td>0.006000</td>\n",
       "      <td>-0.018790</td>\n",
       "    </tr>\n",
       "    <tr>\n",
       "      <th>GBP/USD</th>\n",
       "      <td>0.501023</td>\n",
       "      <td>0.497063</td>\n",
       "      <td>0.048086</td>\n",
       "      <td>0.005875</td>\n",
       "      <td>0.031028</td>\n",
       "    </tr>\n",
       "    <tr>\n",
       "      <th>USD/JPY</th>\n",
       "      <td>0.494047</td>\n",
       "      <td>0.488804</td>\n",
       "      <td>0.048776</td>\n",
       "      <td>0.006348</td>\n",
       "      <td>0.027989</td>\n",
       "    </tr>\n",
       "    <tr>\n",
       "      <th>USD/CHF</th>\n",
       "      <td>0.487256</td>\n",
       "      <td>0.483862</td>\n",
       "      <td>0.013099</td>\n",
       "      <td>0.007103</td>\n",
       "      <td>0.001446</td>\n",
       "    </tr>\n",
       "  </tbody>\n",
       "</table>\n",
       "</div>"
      ],
      "text/plain": [
       "         Accuracy       AUC   Returns  Standard deviation  Sharpe ratio\n",
       "EUR/USD  0.474400  0.471813 -0.020230            0.006000     -0.018790\n",
       "GBP/USD  0.501023  0.497063  0.048086            0.005875      0.031028\n",
       "USD/JPY  0.494047  0.488804  0.048776            0.006348      0.027989\n",
       "USD/CHF  0.487256  0.483862  0.013099            0.007103      0.001446"
      ]
     },
     "execution_count": 60,
     "metadata": {},
     "output_type": "execute_result"
    }
   ],
   "source": [
    "results_naive"
   ]
  },
  {
   "cell_type": "markdown",
   "metadata": {},
   "source": [
    "#### Weighted average"
   ]
  },
  {
   "cell_type": "code",
   "execution_count": 61,
   "metadata": {},
   "outputs": [
    {
     "data": {
      "text/plain": [
       "[0.49205555555555563,\n",
       " 0.4880244872612939,\n",
       " 0.030728352681113562,\n",
       " 0.006396180062758912,\n",
       " 0.016097718325528833]"
      ]
     },
     "execution_count": 61,
     "metadata": {},
     "output_type": "execute_result"
    }
   ],
   "source": [
    "weighted_avg = []\n",
    "\n",
    "for col in results_naive.columns:\n",
    "    weighted_avg.append((15*results_naive.loc['EUR/USD', col]+\n",
    "                         43*(results_naive.loc['GBP/USD', col]+\n",
    "                             results_naive.loc['USD/JPY', col]+\n",
    "                             results_naive.loc['USD/CHF', col]))\n",
    "                        /144)\n",
    "weighted_avg"
   ]
  },
  {
   "cell_type": "code",
   "execution_count": 62,
   "metadata": {},
   "outputs": [],
   "source": [
    "results_naive.loc['Ø'] = weighted_avg"
   ]
  },
  {
   "cell_type": "code",
   "execution_count": 63,
   "metadata": {},
   "outputs": [
    {
     "data": {
      "text/html": [
       "<div>\n",
       "<style scoped>\n",
       "    .dataframe tbody tr th:only-of-type {\n",
       "        vertical-align: middle;\n",
       "    }\n",
       "\n",
       "    .dataframe tbody tr th {\n",
       "        vertical-align: top;\n",
       "    }\n",
       "\n",
       "    .dataframe thead th {\n",
       "        text-align: right;\n",
       "    }\n",
       "</style>\n",
       "<table border=\"1\" class=\"dataframe\">\n",
       "  <thead>\n",
       "    <tr style=\"text-align: right;\">\n",
       "      <th></th>\n",
       "      <th>Accuracy</th>\n",
       "      <th>AUC</th>\n",
       "      <th>Returns</th>\n",
       "      <th>Standard deviation</th>\n",
       "      <th>Sharpe ratio</th>\n",
       "    </tr>\n",
       "  </thead>\n",
       "  <tbody>\n",
       "    <tr>\n",
       "      <th>EUR/USD</th>\n",
       "      <td>0.474400</td>\n",
       "      <td>0.471813</td>\n",
       "      <td>-0.020230</td>\n",
       "      <td>0.006000</td>\n",
       "      <td>-0.018790</td>\n",
       "    </tr>\n",
       "    <tr>\n",
       "      <th>GBP/USD</th>\n",
       "      <td>0.501023</td>\n",
       "      <td>0.497063</td>\n",
       "      <td>0.048086</td>\n",
       "      <td>0.005875</td>\n",
       "      <td>0.031028</td>\n",
       "    </tr>\n",
       "    <tr>\n",
       "      <th>USD/JPY</th>\n",
       "      <td>0.494047</td>\n",
       "      <td>0.488804</td>\n",
       "      <td>0.048776</td>\n",
       "      <td>0.006348</td>\n",
       "      <td>0.027989</td>\n",
       "    </tr>\n",
       "    <tr>\n",
       "      <th>USD/CHF</th>\n",
       "      <td>0.487256</td>\n",
       "      <td>0.483862</td>\n",
       "      <td>0.013099</td>\n",
       "      <td>0.007103</td>\n",
       "      <td>0.001446</td>\n",
       "    </tr>\n",
       "    <tr>\n",
       "      <th>Ø</th>\n",
       "      <td>0.492056</td>\n",
       "      <td>0.488024</td>\n",
       "      <td>0.030728</td>\n",
       "      <td>0.006396</td>\n",
       "      <td>0.016098</td>\n",
       "    </tr>\n",
       "  </tbody>\n",
       "</table>\n",
       "</div>"
      ],
      "text/plain": [
       "         Accuracy       AUC   Returns  Standard deviation  Sharpe ratio\n",
       "EUR/USD  0.474400  0.471813 -0.020230            0.006000     -0.018790\n",
       "GBP/USD  0.501023  0.497063  0.048086            0.005875      0.031028\n",
       "USD/JPY  0.494047  0.488804  0.048776            0.006348      0.027989\n",
       "USD/CHF  0.487256  0.483862  0.013099            0.007103      0.001446\n",
       "Ø        0.492056  0.488024  0.030728            0.006396      0.016098"
      ]
     },
     "execution_count": 63,
     "metadata": {},
     "output_type": "execute_result"
    }
   ],
   "source": [
    "results_naive"
   ]
  },
  {
   "cell_type": "markdown",
   "metadata": {},
   "source": [
    "### Write to file and LaTeX table"
   ]
  },
  {
   "cell_type": "code",
   "execution_count": 64,
   "metadata": {
    "colab": {},
    "colab_type": "code",
    "id": "Vdh0I0GGrjJK"
   },
   "outputs": [
    {
     "data": {
      "text/plain": [
       "'\\\\begin{tabular}{lrrrrr}\\n\\\\toprule\\n{} &  Accuracy &     AUC &  Returns &  Standard deviation &  Sharpe ratio \\\\\\\\\\n\\\\midrule\\nEUR/USD &    0.4744 &  0.4718 &  -0.0202 &              0.0060 &       -0.0188 \\\\\\\\\\nGBP/USD &    0.5010 &  0.4971 &   0.0481 &              0.0059 &        0.0310 \\\\\\\\\\nUSD/JPY &    0.4940 &  0.4888 &   0.0488 &              0.0063 &        0.0280 \\\\\\\\\\nUSD/CHF &    0.4873 &  0.4839 &   0.0131 &              0.0071 &        0.0014 \\\\\\\\\\nØ       &    0.4921 &  0.4880 &   0.0307 &              0.0064 &        0.0161 \\\\\\\\\\n\\\\bottomrule\\n\\\\end{tabular}\\n'"
      ]
     },
     "execution_count": 64,
     "metadata": {},
     "output_type": "execute_result"
    }
   ],
   "source": [
    "# filename = 'results/naive_forecast.csv'\n",
    "# results_naive.to_csv(filename)\n",
    "results_naive.round(4).to_latex()"
   ]
  }
 ],
 "metadata": {
  "accelerator": "TPU",
  "colab": {
   "collapsed_sections": [],
   "name": "FR-tpu-0_loop_nu_data.ipynb",
   "provenance": [],
   "toc_visible": true,
   "version": "0.3.2"
  },
  "kernelspec": {
   "display_name": "Python 3",
   "language": "python",
   "name": "python3"
  },
  "language_info": {
   "codemirror_mode": {
    "name": "ipython",
    "version": 3
   },
   "file_extension": ".py",
   "mimetype": "text/x-python",
   "name": "python",
   "nbconvert_exporter": "python",
   "pygments_lexer": "ipython3",
   "version": "3.6.6"
  }
 },
 "nbformat": 4,
 "nbformat_minor": 2
}
